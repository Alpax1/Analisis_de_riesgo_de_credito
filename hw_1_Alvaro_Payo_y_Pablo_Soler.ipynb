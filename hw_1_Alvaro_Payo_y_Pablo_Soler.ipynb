{
  "cells": [
    {
      "cell_type": "markdown",
      "id": "6046db35",
      "metadata": {
        "id": "6046db35"
      },
      "source": [
        "Group members:\n",
        "* Student 1: Pablo Soler\n",
        "* Student 2: Álvaro Payo"
      ]
    },
    {
      "cell_type": "markdown",
      "id": "c65995f8",
      "metadata": {
        "id": "c65995f8"
      },
      "source": [
        "## 1"
      ]
    },
    {
      "cell_type": "markdown",
      "id": "8428925f",
      "metadata": {
        "id": "8428925f"
      },
      "source": [
        "Write a function, that receives a string, and displays the characteres that are present at an even index number. Execute it with two different input strings."
      ]
    },
    {
      "cell_type": "code",
      "execution_count": null,
      "id": "b96d9b8d",
      "metadata": {
        "id": "b96d9b8d"
      },
      "outputs": [],
      "source": [
        "# EXAMPLE: get_evenidx(\"abcdef\") shoud return \"ace\""
      ]
    },
    {
      "cell_type": "code",
      "execution_count": null,
      "id": "6c212c35",
      "metadata": {
        "id": "6c212c35"
      },
      "outputs": [],
      "source": [
        "## DEFINE THE FUNCTION HERE ##\n",
        "def get_evenidx(str):\n",
        "  modified_string = str[::2]\n",
        "  return print(modified_string)"
      ]
    },
    {
      "cell_type": "code",
      "execution_count": null,
      "id": "498deb4f",
      "metadata": {
        "id": "498deb4f",
        "colab": {
          "base_uri": "https://localhost:8080/"
        },
        "outputId": "2727bf4c-c79b-4532-a650-0e3b29bad83d"
      },
      "outputs": [
        {
          "output_type": "stream",
          "name": "stdout",
          "text": [
            "Ilv rdtrs\n"
          ]
        }
      ],
      "source": [
        "# execution 1. Input string = \"I love credit risk\"\n",
        "\n",
        "## WRITE YOUR CODE HERE ##\n",
        "get_evenidx(\"I love credit risk\")"
      ]
    },
    {
      "cell_type": "code",
      "execution_count": null,
      "id": "19a47583",
      "metadata": {
        "id": "19a47583",
        "colab": {
          "base_uri": "https://localhost:8080/"
        },
        "outputId": "55da8c3b-3fb9-4ca8-e6a3-e0c2449c70be"
      },
      "outputs": [
        {
          "output_type": "stream",
          "name": "stdout",
          "text": [
            "Pto  sfn\n"
          ]
        }
      ],
      "source": [
        "# execution 2. Input string = \"Python 3 is fun\"\n",
        "\n",
        "## WRITE YOUR CODE HERE ##\n",
        "get_evenidx(\"Python 3 is fun\")"
      ]
    },
    {
      "cell_type": "markdown",
      "source": [
        "**Comment exercise 1:**\n",
        "In this exercise we want the even values of the strings, so we have created a function that creates a variable that is the modified string and which returns the values we want. It should be noted that the function counts spaces as values."
      ],
      "metadata": {
        "id": "RURtOMPVW7oJ"
      },
      "id": "RURtOMPVW7oJ"
    },
    {
      "cell_type": "markdown",
      "id": "d56cd478",
      "metadata": {
        "id": "d56cd478"
      },
      "source": [
        "## 2"
      ]
    },
    {
      "cell_type": "markdown",
      "id": "ca0fd354",
      "metadata": {
        "id": "ca0fd354"
      },
      "source": [
        "Write a function that will accept the base and height of a triangle and compute the area."
      ]
    },
    {
      "cell_type": "code",
      "execution_count": null,
      "id": "d38eaf94",
      "metadata": {
        "id": "d38eaf94"
      },
      "outputs": [],
      "source": [
        "# EXAMPLE: area_triangle(base=3, height=2) should return 3. Area = 1/2 * base * height"
      ]
    },
    {
      "cell_type": "code",
      "execution_count": null,
      "id": "bd457438",
      "metadata": {
        "id": "bd457438"
      },
      "outputs": [],
      "source": [
        "def areatriang (b,h):\n",
        "  area = 0.5 * b * h\n",
        "  return area"
      ]
    },
    {
      "cell_type": "code",
      "execution_count": null,
      "id": "ef587d63",
      "metadata": {
        "id": "ef587d63",
        "colab": {
          "base_uri": "https://localhost:8080/"
        },
        "outputId": "80023a6b-f2fd-4158-e78d-7e4c5b22f910"
      },
      "outputs": [
        {
          "output_type": "execute_result",
          "data": {
            "text/plain": [
              "2.5"
            ]
          },
          "metadata": {},
          "execution_count": 3
        }
      ],
      "source": [
        "# execution 1. Inputs: base=5, height=1\n",
        "\n",
        "areatriang(5,1)"
      ]
    },
    {
      "cell_type": "code",
      "execution_count": null,
      "id": "e9b7bb8a",
      "metadata": {
        "id": "e9b7bb8a",
        "colab": {
          "base_uri": "https://localhost:8080/"
        },
        "outputId": "66ef6ffc-342c-478c-d7ba-4da336b8f9d5"
      },
      "outputs": [
        {
          "output_type": "execute_result",
          "data": {
            "text/plain": [
              "7.0"
            ]
          },
          "metadata": {},
          "execution_count": 4
        }
      ],
      "source": [
        "# execution 2. Inputs: base=2, height=7\n",
        "\n",
        "areatriang(2,7)"
      ]
    },
    {
      "cell_type": "markdown",
      "source": [
        "**Comment exercise 2:**\n",
        "In this exercise we want a function based on two variables (base and height) that are the ones needed to find the area of a triangle. So, we create the variable area, which is composed by the formula, and we ask the function to return it depending on the values we assign to the base and the height."
      ],
      "metadata": {
        "id": "IsJr0h_xZZKZ"
      },
      "id": "IsJr0h_xZZKZ"
    },
    {
      "cell_type": "markdown",
      "id": "09e23c7e",
      "metadata": {
        "id": "09e23c7e"
      },
      "source": [
        "## 3"
      ]
    },
    {
      "cell_type": "markdown",
      "id": "7fce2cb8",
      "metadata": {
        "id": "7fce2cb8"
      },
      "source": [
        "Write a function that checks whether if the first and last element of a list is the same."
      ]
    },
    {
      "cell_type": "code",
      "execution_count": null,
      "id": "217828db",
      "metadata": {
        "id": "217828db"
      },
      "outputs": [],
      "source": [
        "# EXAMPLE: check_extremes([1, 2, 'a', 'z', 1]) should return True\n",
        "# EXAMPLE: check_extremes([1, 2, 'a', 'z', '@']) should return False"
      ]
    },
    {
      "cell_type": "code",
      "execution_count": null,
      "id": "a87574b9",
      "metadata": {
        "id": "a87574b9"
      },
      "outputs": [],
      "source": [
        "## DEFINE THE FUNCTION HERE ##\n",
        "def check_extremes (list):\n",
        "  if list[0] == list[-1]:\n",
        "   print(\"True\")\n",
        "  else:\n",
        "   print(\"False\")"
      ]
    },
    {
      "cell_type": "code",
      "execution_count": null,
      "id": "a39e1b17",
      "metadata": {
        "id": "a39e1b17",
        "colab": {
          "base_uri": "https://localhost:8080/"
        },
        "outputId": "7167c1e4-acab-43b1-cad4-82c5106e267c"
      },
      "outputs": [
        {
          "output_type": "stream",
          "name": "stdout",
          "text": [
            "False\n"
          ]
        }
      ],
      "source": [
        "# Execution 1. Inputs: [1, 2, 3, 4, 5, 6, 7]\n",
        "\n",
        "## WRITE YOUR CODE HERE ##\n",
        "list1 = (1, 2, 3, 4, 5, 6, 7)\n",
        "check_extremes (list1)"
      ]
    },
    {
      "cell_type": "code",
      "execution_count": null,
      "id": "894b2a3e",
      "metadata": {
        "id": "894b2a3e",
        "colab": {
          "base_uri": "https://localhost:8080/"
        },
        "outputId": "a0983fbf-32b6-4f1b-c2cc-1ef3da1d23e2"
      },
      "outputs": [
        {
          "output_type": "stream",
          "name": "stdout",
          "text": [
            "True\n"
          ]
        }
      ],
      "source": [
        "# Execution 2. Inputs: [9, 'w', '3', 1, 9]\n",
        "\n",
        "## WRITE YOUR CODE HERE ##\n",
        "list2 = (9, 'w', '3', 1, 9)\n",
        "check_extremes(list2)"
      ]
    },
    {
      "cell_type": "markdown",
      "source": [
        "**Comment exercise 3:**\n",
        "In this exercise we want to see if the first and last element of a list coincide. For it, we use an *if* in the function that consists of the condition that we want to put. If that condition is fulfilled, the function will return \"True\", and in the case that it is not fulfilled (*else*), it will return \"False\"."
      ],
      "metadata": {
        "id": "5EE7KyDBaRaJ"
      },
      "id": "5EE7KyDBaRaJ"
    },
    {
      "cell_type": "markdown",
      "id": "f488d0b5",
      "metadata": {
        "id": "f488d0b5"
      },
      "source": [
        "## 4"
      ]
    },
    {
      "cell_type": "markdown",
      "id": "71227313",
      "metadata": {
        "id": "71227313"
      },
      "source": [
        "Write a function, which receives two lists, and returns the sorted unique elements of both lists."
      ]
    },
    {
      "cell_type": "code",
      "execution_count": null,
      "id": "5cc54ec1",
      "metadata": {
        "id": "5cc54ec1"
      },
      "outputs": [],
      "source": [
        "# EXAMPLE: unique_sorted([1, 3, 2, 2], [0, 1, 0, -1]) should return [-1, 0, 1, 2, 3]"
      ]
    },
    {
      "cell_type": "code",
      "source": [
        "def unique_sorted(list1, list2):\n",
        " unique = []\n",
        " for element in list1+list2:\n",
        "     if element not in unique:\n",
        "         unique.append(element)\n",
        " print(sorted(unique))"
      ],
      "metadata": {
        "id": "qyOmrSL8tyJu"
      },
      "id": "qyOmrSL8tyJu",
      "execution_count": null,
      "outputs": []
    },
    {
      "cell_type": "code",
      "source": [
        "# Execution 1. Inputs: [-1, 2, 3, 0, -1, 0, 5], [1, 2, 3, 4, 5, 999]\n",
        "\n",
        "## WRITE YOUR CODE HERE ##\n",
        "list1 = (-1, 2, 3, 0, -1, 0, 5)\n",
        "list2 = (1, 2, 3, 4, 5, 999)\n",
        "\n",
        "unique_sorted(list1, list2)"
      ],
      "metadata": {
        "colab": {
          "base_uri": "https://localhost:8080/"
        },
        "id": "A6BQppv2sTfZ",
        "outputId": "cea440df-4309-4865-9bee-557aa8f03256"
      },
      "id": "A6BQppv2sTfZ",
      "execution_count": null,
      "outputs": [
        {
          "output_type": "stream",
          "name": "stdout",
          "text": [
            "[-1, 0, 1, 2, 3, 4, 5, 999]\n"
          ]
        }
      ]
    },
    {
      "cell_type": "code",
      "execution_count": null,
      "id": "ddc08967",
      "metadata": {
        "id": "ddc08967",
        "colab": {
          "base_uri": "https://localhost:8080/"
        },
        "outputId": "3cd3b6c1-1e11-4164-b349-cea12f564c67"
      },
      "outputs": [
        {
          "output_type": "stream",
          "name": "stdout",
          "text": [
            "[-5, -4, 3.14, 4, 8, 9, 10, 44]\n"
          ]
        }
      ],
      "source": [
        "# Execution 1. Inputs: [10, -5, 3.14, 8, 9, 4], [44, 4, 9, -4, -5]\n",
        "\n",
        "## WRITE YOUR CODE HERE ##\n",
        "list3 = (10, -5, 3.14, 8, 9, 4)\n",
        "list4 = (44, 4, 9, -4, -5)\n",
        "\n",
        "unique_sorted(list3, list4) "
      ]
    },
    {
      "cell_type": "markdown",
      "source": [
        "**Comment exercise 4:**\n",
        "In this exercise, we receive two lists of numbers and we want to return a single list with the unique numbers and sorted from smallest to largest. For it, we create a variable that consists of an empty list, to which the unique elements of each list will be added. So that the list that returns us is ordered, we use the *sorted* function."
      ],
      "metadata": {
        "id": "I9OWPrCVbWmG"
      },
      "id": "I9OWPrCVbWmG"
    },
    {
      "cell_type": "markdown",
      "id": "700444cd",
      "metadata": {
        "id": "700444cd"
      },
      "source": [
        "## 5"
      ]
    },
    {
      "cell_type": "markdown",
      "id": "f36f840e",
      "metadata": {
        "id": "f36f840e"
      },
      "source": [
        "Write a function that checks whether if a number is a Palindrome number (número capicúa)"
      ]
    },
    {
      "cell_type": "code",
      "execution_count": null,
      "id": "91ffb172",
      "metadata": {
        "id": "91ffb172"
      },
      "outputs": [],
      "source": [
        "# EXAMPLE: is_palindrome(141) should return True\n",
        "# EXAMPLE: is_palindrome(142) should return False"
      ]
    },
    {
      "cell_type": "code",
      "execution_count": null,
      "id": "b4ac3738",
      "metadata": {
        "id": "b4ac3738"
      },
      "outputs": [],
      "source": [
        "## DEFINE THE FUNCTION HERE ##\n",
        "def is_Palindrome(x):\n",
        "    convertedNumber = str(x)\n",
        "    reverseString = convertedNumber[::-1]\n",
        "    return \"True\" if reverseString == convertedNumber else \"False\""
      ]
    },
    {
      "cell_type": "code",
      "execution_count": null,
      "id": "44d1efab",
      "metadata": {
        "id": "44d1efab",
        "colab": {
          "base_uri": "https://localhost:8080/",
          "height": 35
        },
        "outputId": "d0675053-598c-4299-fdc2-495fdb959e60"
      },
      "outputs": [
        {
          "output_type": "execute_result",
          "data": {
            "text/plain": [
              "'True'"
            ],
            "application/vnd.google.colaboratory.intrinsic+json": {
              "type": "string"
            }
          },
          "metadata": {},
          "execution_count": 21
        }
      ],
      "source": [
        "# Execution 1. Input: 252\n",
        "\n",
        "## WRITE YOUR CODE HERE ##\n",
        "is_Palindrome(252)"
      ]
    },
    {
      "cell_type": "code",
      "execution_count": null,
      "id": "ad4f423b",
      "metadata": {
        "id": "ad4f423b",
        "colab": {
          "base_uri": "https://localhost:8080/",
          "height": 35
        },
        "outputId": "ed5c9963-9658-4f0a-9c66-5c56e7281bf6"
      },
      "outputs": [
        {
          "output_type": "execute_result",
          "data": {
            "text/plain": [
              "'False'"
            ],
            "application/vnd.google.colaboratory.intrinsic+json": {
              "type": "string"
            }
          },
          "metadata": {},
          "execution_count": 22
        }
      ],
      "source": [
        "# Execution 2. Inputs: 1000\n",
        "\n",
        "## WRITE YOUR CODE HERE ##\n",
        "is_Palindrome(1000)"
      ]
    },
    {
      "cell_type": "markdown",
      "source": [
        "**Comment exercise 5:**\n",
        "In this exercise we want to check if a number is a Palindrome number or not. To do this, we have created a function that creates two variables. The first one converts the number to a string, and the second one is the same string read backwards. Finally, it checks if both variables are equal. In the case that they are, the function returns \"True\", since the number is *capicua*; and in the case that they are not, it returns \"False\", since it is not."
      ],
      "metadata": {
        "id": "dip8TzHvctgi"
      },
      "id": "dip8TzHvctgi"
    },
    {
      "cell_type": "markdown",
      "id": "726c1ff3",
      "metadata": {
        "id": "726c1ff3"
      },
      "source": [
        "## 6"
      ]
    },
    {
      "cell_type": "markdown",
      "id": "e5219d27",
      "metadata": {
        "id": "e5219d27"
      },
      "source": [
        "Write a function that receives a dictionary and a list, and removes from the dictionary the keys contained in the input list"
      ]
    },
    {
      "cell_type": "code",
      "execution_count": null,
      "id": "5a7b9ec2",
      "metadata": {
        "id": "5a7b9ec2"
      },
      "outputs": [],
      "source": [
        "# EXAMPLE: \n",
        "# input_dict = {\"name\": \"Sergio\",\n",
        "#               \"age\": 31,\n",
        "#               \"city\": \"Madrid\",\n",
        "#               \"salary\": 100}\n",
        "\n",
        "# remove_keys(input_dict, [\"age\", \"salary\"]) should return \n",
        "\n",
        "# {\"name\": \"Sergio\",\n",
        "#  \"city\": \"Madrid\"}"
      ]
    },
    {
      "cell_type": "code",
      "execution_count": null,
      "id": "ee8f01b6",
      "metadata": {
        "id": "ee8f01b6"
      },
      "outputs": [],
      "source": [
        "## DEFINE THE FUNCTION HERE ##\n",
        "def remove_keys(input_dict, input_list):\n",
        "  for element in input_list: \n",
        "    del input_dict[element]\n",
        "  return input_dict"
      ]
    },
    {
      "cell_type": "code",
      "execution_count": null,
      "id": "a2a5f091",
      "metadata": {
        "id": "a2a5f091",
        "colab": {
          "base_uri": "https://localhost:8080/"
        },
        "outputId": "65bcfe19-e553-46a5-e1c6-80a5a63b2fc5"
      },
      "outputs": [
        {
          "output_type": "execute_result",
          "data": {
            "text/plain": [
              "{'age': 31, 'salary': 100}"
            ]
          },
          "metadata": {},
          "execution_count": 4
        }
      ],
      "source": [
        "# Execution 1. Inputs: \n",
        "\n",
        "# Input dictionry:\n",
        "#              {\"name\": \"Sergio\",\n",
        "#               \"age\": 31,\n",
        "#               \"city\": \"Madrid\",\n",
        "#               \"salary\": 100}\n",
        "\n",
        "# Input list: [\"name\", \"city\"]\n",
        "\n",
        "## WRITE YOUR CODE HERE ##   \n",
        "input_dict1 = {\"name\": \"Sergio\",\n",
        "              \"age\": 31,\n",
        "              \"city\": \"Madrid\",\n",
        "              \"salary\": 100}\n",
        "\n",
        "input_list1 = [\"name\", \"city\"]\n",
        "\n",
        "remove_keys(input_dict1, input_list1)"
      ]
    },
    {
      "cell_type": "code",
      "execution_count": null,
      "id": "96211afa",
      "metadata": {
        "id": "96211afa",
        "colab": {
          "base_uri": "https://localhost:8080/"
        },
        "outputId": "9468159c-0591-4b38-fe0b-fa78bad72ff3"
      },
      "outputs": [
        {
          "output_type": "execute_result",
          "data": {
            "text/plain": [
              "{'interests': ['Sports', 'Economy', 'Programming'],\n",
              " 'last_online': '2021-12-01'}"
            ]
          },
          "metadata": {},
          "execution_count": 5
        }
      ],
      "source": [
        "# Execution 2. Inputs: \n",
        "\n",
        "# Input dictionry:\n",
        "#              {\"interests\": [\"Sports\", \"Economy\", \"Programming\"],\n",
        "#               \"userid\": 8952589\n",
        "#               \"country\": \"Spain\",\n",
        "#               \"last_online\": \"2021-12-01\"}\n",
        "\n",
        "# Input list: [\"userid\", \"country\"]\n",
        "\n",
        "## WRITE YOUR CODE HERE ##\n",
        "input_dict2 = {\"interests\": [\"Sports\", \"Economy\", \"Programming\"],\n",
        "              \"userid\": 8952589,\n",
        "              \"country\": \"Spain\",\n",
        "              \"last_online\": \"2021-12-01\"}\n",
        "\n",
        "input_list2 = [\"userid\", \"country\"]\n",
        "\n",
        "remove_keys(input_dict2, input_list2)"
      ]
    },
    {
      "cell_type": "markdown",
      "source": [
        "**Comment exercise 6:**\n",
        "In this exercise we receive a dictionary and a list, and we want to remove from the dictionary the keys that appear in the list. To do this, we create a function in which we implement a *for* to identify the elements of the list. Those elements will be eliminated with *del*, so the function will return the dictionary without the elements that appeared in the list."
      ],
      "metadata": {
        "id": "knCFluEGeIbq"
      },
      "id": "knCFluEGeIbq"
    }
  ],
  "metadata": {
    "kernelspec": {
      "display_name": "Python 3 (ipykernel)",
      "language": "python",
      "name": "python3"
    },
    "language_info": {
      "codemirror_mode": {
        "name": "ipython",
        "version": 3
      },
      "file_extension": ".py",
      "mimetype": "text/x-python",
      "name": "python",
      "nbconvert_exporter": "python",
      "pygments_lexer": "ipython3",
      "version": "3.8.8"
    },
    "colab": {
      "provenance": [],
      "collapsed_sections": []
    }
  },
  "nbformat": 4,
  "nbformat_minor": 5
}